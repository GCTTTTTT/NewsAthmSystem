{
 "cells": [
  {
   "cell_type": "code",
   "execution_count": null,
   "id": "372d49b2-e053-4b95-bb26-073c31eb9761",
   "metadata": {},
   "outputs": [],
   "source": [
    "# 查询数据库中2024-03-02 ~ 2024-03-18的数据用于评估\n",
    "# todo：包装成一个函数 供外部调用 存储路径和SQL改善\n",
    "import mysql.connector\n",
    "import pandas as pd\n",
    "\n",
    "# 连接数据库\n",
    "conn = mysql.connector.connect(\n",
    "  host=\"172.16.234.200\",\n",
    "  user=\"dg_news\",\n",
    "  password=\"dg_news\",\n",
    "  database=\"dg_crawler\"\n",
    ")\n",
    "\n",
    "# 执行SQL查询\n",
    "query = \"\"\"\n",
    "    SELECT *\n",
    "    FROM news\n",
    "    WHERE pub_time BETWEEN '2024-03-02' AND '2024-03-02' and news.language_id=1779\n",
    "\"\"\"\n",
    "\n",
    "# 将查询结果存入DataFrame\n",
    "df = pd.read_sql(query, conn)\n",
    "\n",
    "# 关闭数据库连接\n",
    "conn.close()\n",
    "\n",
    "# 将DataFrame写入CSV文件\n",
    "# 按天文件夹\n",
    "df.to_csv(\"./datasets/news_20240302.csv\", index=False)"
   ]
  }
 ],
 "metadata": {
  "kernelspec": {
   "display_name": "conda-default",
   "language": "python",
   "name": "conda-default"
  },
  "language_info": {
   "codemirror_mode": {
    "name": "ipython",
    "version": 3
   },
   "file_extension": ".py",
   "mimetype": "text/x-python",
   "name": "python",
   "nbconvert_exporter": "python",
   "pygments_lexer": "ipython3",
   "version": "3.8.16"
  }
 },
 "nbformat": 4,
 "nbformat_minor": 5
}
