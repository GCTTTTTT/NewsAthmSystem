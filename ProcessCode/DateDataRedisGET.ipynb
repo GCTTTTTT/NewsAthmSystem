{
 "cells": [
  {
   "cell_type": "code",
   "execution_count": 1,
   "id": "26533230-743c-4937-b202-e8461b420de3",
   "metadata": {
    "tags": []
   },
   "outputs": [],
   "source": [
    "from rediscluster import RedisCluster\n",
    "import mysql.connector\n",
    "from datetime import datetime\n",
    "import json\n",
    "import pandas as pd\n",
    "\n",
    "# 定义Redis集群的节点信息\n",
    "startup_nodes = [\n",
    "    {\"host\": \"120.25.223.26\", \"port\": \"6380\"},\n",
    "    {\"host\": \"120.25.223.26\", \"port\": \"6381\"},\n",
    "    {\"host\": \"120.25.223.26\", \"port\": \"6382\"},\n",
    "    {\"host\": \"120.25.223.26\", \"port\": \"6383\"},\n",
    "    {\"host\": \"120.25.223.26\", \"port\": \"6384\"},\n",
    "    {\"host\": \"120.25.223.26\", \"port\": \"6385\"}\n",
    "]\n",
    "\n",
    "# 连接到Redis集群\n",
    "rc = RedisCluster(startup_nodes=startup_nodes, decode_responses=True)\n",
    "\n",
    "# 连接到MySQL数据库\n",
    "# cnx = mysql.connector.connect(user='your_username', password='your_password',\n",
    "#                               host='your_host', database='your_database')\n",
    "\n",
    "cnx = mysql.connector.connect(\n",
    "          host=\"172.16.234.200\",\n",
    "          user=\"dg_news\",\n",
    "          password=\"dg_news\",\n",
    "          database=\"dg_crawler\"\n",
    "        )\n",
    "cursor = cnx.cursor()\n"
   ]
  },
  {
   "cell_type": "code",
   "execution_count": 2,
   "id": "67b1198a-1d65-480d-a438-56c298c5721b",
   "metadata": {
    "tags": []
   },
   "outputs": [
    {
     "name": "stdout",
     "output_type": "stream",
     "text": [
      "Data for 2024-01-01 retrieved from Redis cache.\n"
     ]
    }
   ],
   "source": [
    "\n",
    "# 指定要查询的日期\n",
    "date_sel = \"2024-01-01\"\n",
    "\n",
    "# 检查Redis中是否有指定日期的缓存数据\n",
    "cached_data = rc.get(date_sel)\n",
    "\n",
    "if cached_data is not None:\n",
    "    # 如果Redis中有缓存数据,则直接从Redis中获取\n",
    "    news_data = json.loads(cached_data)\n",
    "    print(f\"Data for {date_sel} retrieved from Redis cache.\")\n",
    "else:\n",
    "    # 如果Redis中没有缓存数据,则从MySQL查询数据\n",
    "    query = f\"SELECT * FROM news WHERE pub_time='{date_sel}' AND news.language_id=1779\"\n",
    "    cursor.execute(query)\n",
    "    news_data = cursor.fetchall()\n",
    "    \n",
    "    # 将查询结果缓存到Redis中\n",
    "    rc.set(date_sel, json.dumps(news_data, default=str))\n",
    "    print(f\"Data for {date_sel} retrieved from MySQL and cached in Redis.\")\n"
   ]
  },
  {
   "cell_type": "code",
   "execution_count": 3,
   "id": "591135e4-308a-4622-a432-f2eaa26e7a58",
   "metadata": {
    "tags": []
   },
   "outputs": [
    {
     "name": "stdout",
     "output_type": "stream",
     "text": [
      "Data for 2024-01-01 saved to news_data_2024-01-01.csv.\n"
     ]
    }
   ],
   "source": [
    "\n",
    "# 将数据转换为DataFrame\n",
    "columns = [\"id\", \"website_id\", \"request_url\", \"response_url\", \"category1\", \"category2\",\n",
    "           \"title\", \"abstract\", \"body\", \"pub_time\", \"cole_time\", \"images\", \"language_id\", \"md5\"]\n",
    "df = pd.DataFrame(news_data, columns=columns)\n",
    "\n",
    "# 保存DataFrame到CSV文件\n",
    "csv_filename = f\"news_data_{date_sel}.csv\"\n",
    "df.to_csv(csv_filename, index=False)\n",
    "print(f\"Data for {date_sel} saved to {csv_filename}.\")\n",
    "\n",
    "# 关闭MySQL连接\n",
    "cursor.close()\n",
    "cnx.close()"
   ]
  },
  {
   "cell_type": "code",
   "execution_count": null,
   "id": "be6f591c-25b3-4502-b45f-610f3b1842ba",
   "metadata": {},
   "outputs": [],
   "source": []
  }
 ],
 "metadata": {
  "kernelspec": {
   "display_name": "conda-default",
   "language": "python",
   "name": "conda-default"
  },
  "language_info": {
   "codemirror_mode": {
    "name": "ipython",
    "version": 3
   },
   "file_extension": ".py",
   "mimetype": "text/x-python",
   "name": "python",
   "nbconvert_exporter": "python",
   "pygments_lexer": "ipython3",
   "version": "3.8.16"
  }
 },
 "nbformat": 4,
 "nbformat_minor": 5
}
